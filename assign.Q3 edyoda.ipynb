{
 "cells": [
  {
   "cell_type": "code",
   "execution_count": 1,
   "id": "afc6fab7",
   "metadata": {},
   "outputs": [
    {
     "name": "stdout",
     "output_type": "stream",
     "text": [
      "Number of even numbers : 4\n",
      "Number of od numbers : 5\n"
     ]
    }
   ],
   "source": [
    "numbers =(1,2,3,4,5,6,7,8,9)\n",
    "count_even =0\n",
    "count_odd =0\n",
    "\n",
    "for i in range(0,len(numbers)):\n",
    "    if i%2:\n",
    "        count_even +=1\n",
    "    else:\n",
    "        count_odd +=1\n",
    "print(\"Number of even numbers :\" ,count_even)\n",
    "print(\"Number of od numbers :\" ,count_odd)"
   ]
  },
  {
   "cell_type": "code",
   "execution_count": null,
   "id": "51fd2566",
   "metadata": {},
   "outputs": [],
   "source": []
  }
 ],
 "metadata": {
  "kernelspec": {
   "display_name": "Python 3 (ipykernel)",
   "language": "python",
   "name": "python3"
  },
  "language_info": {
   "codemirror_mode": {
    "name": "ipython",
    "version": 3
   },
   "file_extension": ".py",
   "mimetype": "text/x-python",
   "name": "python",
   "nbconvert_exporter": "python",
   "pygments_lexer": "ipython3",
   "version": "3.11.3"
  }
 },
 "nbformat": 4,
 "nbformat_minor": 5
}
